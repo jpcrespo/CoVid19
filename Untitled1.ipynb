{
 "cells": [
  {
   "cell_type": "markdown",
   "metadata": {},
   "source": [
    "#Predicción de la suceptibilidad del Covid19\n",
    "\n",
    "Las predicciónes basadas en la taxonomia de cen resultados limitados. La aproximación más exitosa para predecir la suceptibilidad UV sigue el método Kowalski 2009:\n",
    "\n",
    "1/ Whenever two or more pyrimidine residues are adjacent to one another, photoreactions\n",
    "are observed at both pyrimidines.\n",
    "2/ Non-adjacent pyrimidines, surrounded on both sides by purines, exhibit little or\n",
    "no photoreactivity.\n",
    "3/ The only purines that readily form UV photoproducts are those that are flanked\n",
    "on their 5'' side by two or more contiguous pyrimidine residues.\n",
    "\n",
    "Primero cargamos y analizamos el genoma del covid19, y exploramos algunas bases para formar una idea"
   ]
  },
  {
   "cell_type": "code",
   "execution_count": 101,
   "metadata": {},
   "outputs": [
    {
     "name": "stdout",
     "output_type": "stream",
     "text": [
      "Análisis del genoma Covid19\n",
      "29903 Nucleotidos\n",
      "Imprimen las primeras 500 bases\n",
      "['A' 'T' 'T' 'A' 'A' 'A' 'G' 'G' 'T' 'T' 'T' 'A' 'T' 'A' 'C' 'C' 'T' 'T'\n",
      " 'C' 'C' 'C' 'A' 'G' 'G' 'T' 'A' 'A' 'C' 'A' 'A' 'A' 'C' 'C' 'A' 'A' 'C'\n",
      " 'C' 'A' 'A' 'C' 'T' 'T' 'T' 'C' 'G' 'A' 'T' 'C' 'T' 'C']\n"
     ]
    }
   ],
   "source": [
    "import numpy as np\n",
    "import pandas as pd\n",
    "import seaborn as sns\n",
    "import os\n",
    "from Bio import SeqIO\n",
    "\n",
    "for sequence in SeqIO.parse('MN908947.fna', \"fasta\"):\n",
    "    a = sequence.seq  \n",
    "print('Análisis del genoma Covid19')\n",
    "print(len(a),'Nucleotidos')\n",
    "np.set_printoptions(threshold=50)\n",
    "a=np.array(a)\n",
    "print('Imprimen las primeras 500 bases')\n",
    "print(a[:50])\n"
   ]
  },
  {
   "cell_type": "markdown",
   "metadata": {},
   "source": [
    "Se deben encontrar los siguientes valores:\n",
    "\n",
    "\n",
    "  tt          dobletes de timina TT\n",
    "  \n",
    "  <-->\n",
    "   ct          TC o CT  \n",
    "  \n",
    "  \n",
    "  cc           dobletes de citocina CC\n",
    " \n",
    " \n",
    " <--->\n",
    " YYU          purine w/adjacent pyramidine doublet \n",
    "  \n",
    "  \n",
    "ATT ACC ACT ATC\n",
    "\n",
    "\n",
    "GTT GCC GCT GTC\n",
    "\n",
    "\n",
    "TTA CCA CTA TCA\n",
    "\n",
    "\n",
    "TTG CCG CTG CGT\n",
    "\n",
    "BP           Total Base Pair\n",
    "   "
   ]
  },
  {
   "cell_type": "code",
   "execution_count": 150,
   "metadata": {},
   "outputs": [
    {
     "name": "stdout",
     "output_type": "stream",
     "text": [
      "Análisis del genoma Covid19\n",
      "29903 Nucleotidos\n",
      "dobletes timina tt: 3215\n",
      "dobletes citocina cc: 888\n",
      "dobletes citocina timina bidireccional ct: 3494\n",
      "YYU_tt: 3166\n",
      "YYU_cc: 991\n",
      "YYU_ct: 3521\n",
      "Probabilidad de Dimerización: 20.66 %\n"
     ]
    }
   ],
   "source": [
    "import numpy as np\n",
    "import pandas as pd\n",
    "import seaborn as sns\n",
    "import os\n",
    "import math \n",
    "from Bio import SeqIO\n",
    "\n",
    "for sequence in SeqIO.parse('MN908947.fna', \"fasta\"):\n",
    "    a = sequence.seq  \n",
    "print('Análisis del genoma Covid19')\n",
    "print(len(a),'Nucleotidos')\n",
    "np.set_printoptions(threshold=50)\n",
    "a=np.array(a)\n",
    "\n",
    "\n",
    "cnt_tt = 0\n",
    "cnt_cc = 0\n",
    "cnt_ct = 0\n",
    "cnt_yyu=0\n",
    "cnta = 0\n",
    "cnt=0\n",
    "vind_tt=[]\n",
    "vind_cc=[]\n",
    "vind_ct=[]\n",
    "\n",
    "#calculamos los dobletes timina\n",
    "for i in range(len(a)-1):\n",
    "    if (a[i]=='T'and a[i+1]=='T'):\n",
    "        cnt_tt = cnt_tt+1\n",
    "        vind_tt.append(i) \n",
    "        \n",
    "print('dobletes timina tt: '+str(cnt_tt))    \n",
    "\n",
    "#calculamos los dobletes citosina\n",
    "for i in range(len(a)-1):\n",
    "    if a[i]=='C'and a[i+1]=='C':\n",
    "        cnt_cc = cnt_cc+1\n",
    "        vind_cc.append(i)\n",
    "print('dobletes citocina cc: '+str(cnt_cc))        \n",
    "\n",
    "#calculamos los dobletes citosina-timina en ambas direcciones\n",
    "for i in range(len(a)-1):\n",
    "    if ((a[i]=='C'and a[i+1]=='T') or (a[i]=='T'and a[i+1]=='C')):\n",
    "        cnt_ct = cnt_ct+1\n",
    "        vind_ct.append(i)\n",
    "print('dobletes citocina timina bidireccional ct: '+str(cnt_ct)) \n",
    "                                       \n",
    "#calculamos las purinas con dobletes de piromidinas\n",
    "#Este proceso lo dividimos en 3 grupos\n",
    "#acudiremos a los vectores con indices para ello\n",
    "\n",
    "#Timinas:\n",
    "yyu_tt=0\n",
    "vyyu_tt=[]\n",
    "\n",
    "for j in range(len(vind_tt)):  #en este caso no inicia con tt\n",
    "    i=vind_tt[j]\n",
    "    if (a[i-1]=='A' or a[i-1]=='G'):\n",
    "        yyu_tt=yyu_tt+1\n",
    "        vyyu_tt.append(i-1)\n",
    "    if (a[i+2]=='A' or a[i+2]=='G'):\n",
    "        yyu_tt=yyu_tt+1\n",
    "        vyyu_tt.append(i)\n",
    "\n",
    "print('YYU_tt: '+str(yyu_tt))        \n",
    "      \n",
    "#citocinas\n",
    "yyu_cc=0\n",
    "vyyu_cc=[]\n",
    "\n",
    "for j in range(len(vind_cc)):  #en este caso no inicia con tt\n",
    "    i=vind_cc[j]\n",
    "    if (a[i-1]=='A' or a[i-1]=='G'):\n",
    "        yyu_cc=yyu_cc+1\n",
    "        vyyu_cc.append(i-1)\n",
    "    if (a[i+2]=='A' or a[i+2]=='G'):\n",
    "        yyu_cc=yyu_cc+1\n",
    "        vyyu_cc.append(i)\n",
    "        \n",
    "print('YYU_cc: '+str(yyu_cc))     \n",
    "\n",
    "#con las ct o tc\n",
    "yyu_ct=0\n",
    "vyyu_ct=[]\n",
    "for j in range(len(vind_ct)):\n",
    "    i=vind_ct[j]\n",
    "    if (a[i-1]=='A' or a[i-1]=='G'):\n",
    "        yyu_ct=yyu_ct+1\n",
    "        vyyu_ct.append(i-1)\n",
    "    if (a[i+2]=='A' or a[i+2]=='G'):\n",
    "        yyu_ct=yyu_ct+1\n",
    "        vyyu_ct.append(i)\n",
    "print('YYU_ct: '+str(yyu_ct))     \n",
    "\n",
    "#Hallamos el total del YYU\n",
    "cnt_yyu=yyu_tt+yyu_cc+yyu_ct\n",
    "\n",
    "        \n",
    "Fa=0.1\n",
    "Fb=6\n",
    "Fc=4\n",
    "\n",
    "Dv1=(cnt_tt+Fa*cnt_ct+Fb*cnt_cc+Fc*cnt_yyu)**(1/2)\n",
    "Dv2=len(a)**(2/3)\n",
    "Dv=Dv1/Dv2\n",
    "print('Probabilidad de Dimerización: '+str(round(Dv*100,2))+' %')\n",
    "\n",
    "\n"
   ]
  },
  {
   "cell_type": "markdown",
   "metadata": {},
   "source": [
    "A partir de este análisis, se puede\n",
    "estimar la dosis efectiva.\n",
    "\n",
    "En el ejemplo, obtenido en la literatura se ajustó\n",
    "una curva para distintos virus RNA, con la dosis 90 medida para distintos virus, en agua. \n",
    "\n",
    "\n"
   ]
  },
  {
   "cell_type": "code",
   "execution_count": 146,
   "metadata": {},
   "outputs": [
    {
     "name": "stdout",
     "output_type": "stream",
     "text": [
      "D90 WATTER UV covid19: 18.705 J/m2\n"
     ]
    }
   ],
   "source": [
    "y=1.81*0.0079*math.exp(34.741*Dv)\n",
    "\n",
    "print('D90 WATTER UV covid19: '+str(round(y,3))+' J/m2')"
   ]
  },
  {
   "cell_type": "code",
   "execution_count": null,
   "metadata": {},
   "outputs": [],
   "source": []
  }
 ],
 "metadata": {
  "kernelspec": {
   "display_name": "Python 3",
   "language": "python",
   "name": "python3"
  },
  "language_info": {
   "codemirror_mode": {
    "name": "ipython",
    "version": 3
   },
   "file_extension": ".py",
   "mimetype": "text/x-python",
   "name": "python",
   "nbconvert_exporter": "python",
   "pygments_lexer": "ipython3",
   "version": "3.8.2"
  }
 },
 "nbformat": 4,
 "nbformat_minor": 4
}
